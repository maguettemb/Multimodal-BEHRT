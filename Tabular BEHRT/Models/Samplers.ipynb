{
  "cells": [
    {
      "cell_type": "code",
      "execution_count": null,
      "id": "74e6cea9-e242-4fb2-bc06-89263ef31d8a",
      "metadata": {
        "id": "74e6cea9-e242-4fb2-bc06-89263ef31d8a",
        "outputId": "b4a584aa-7355-4401-e715-331d8d7b330d"
      },
      "outputs": [
        {
          "name": "stdout",
          "output_type": "stream",
          "text": [
            "Populating the interactive namespace from numpy and matplotlib\n"
          ]
        }
      ],
      "source": [
        "%pylab inline"
      ]
    },
    {
      "cell_type": "code",
      "execution_count": null,
      "id": "a588fa4d-2142-4255-b528-a28b9a21be19",
      "metadata": {
        "id": "a588fa4d-2142-4255-b528-a28b9a21be19"
      },
      "outputs": [],
      "source": [
        "import pandas as pd\n",
        "from sklearn import metrics, model_selection\n",
        "from Utils.handle_file import handle_file\n",
        "from Utils import utils\n",
        "import torch\n",
        "from torch.utils.data import Dataset, DataLoader, Sampler"
      ]
    },
    {
      "cell_type": "markdown",
      "id": "10f93f74-5900-432e-9246-f6c48a661b6c",
      "metadata": {
        "id": "10f93f74-5900-432e-9246-f6c48a661b6c"
      },
      "source": [
        "### Custom dataset"
      ]
    },
    {
      "cell_type": "code",
      "execution_count": null,
      "id": "402f275a-10f7-4844-a860-d266814a87dc",
      "metadata": {
        "id": "402f275a-10f7-4844-a860-d266814a87dc"
      },
      "outputs": [],
      "source": [
        "from torch.utils.data.dataset import Dataset\n",
        "from Utils.dataLoader_utils import seq_padding, code2index, label2index, position_idx, index_seg"
      ]
    },
    {
      "cell_type": "code",
      "execution_count": null,
      "id": "6f49a366-a0f4-48ff-9dfb-30d926f1ae09",
      "metadata": {
        "id": "6f49a366-a0f4-48ff-9dfb-30d926f1ae09"
      },
      "outputs": [],
      "source": [
        "class FinetuneDataset(Dataset):\n",
        "    def __init__(self, token2idx, label2idx, mod2idx, age2idx, del2idx, NPI2idx,\n",
        "                 dataframe, max_len, patid='patid', code='inputs', age='age',\n",
        "                 label='label',\n",
        "                 mod='modalities', delay='delays_in_months', NPI='NPI'):\n",
        "        self.vocab = token2idx\n",
        "        self.mod2idx = mod2idx\n",
        "        self.age2idx = age2idx\n",
        "        self.del2idx = del2idx\n",
        "        self.npi2idx = NPI2idx\n",
        "        self.label_vocab = label2idx\n",
        "        self.max_len = max_len\n",
        "        self.code = dataframe[code]\n",
        "        self.age = dataframe[age]\n",
        "        self.label = dataframe[label]\n",
        "        self.patid = dataframe[patid]\n",
        "        self.modalities = dataframe[mod]\n",
        "        self.delay = dataframe[delay]\n",
        "        self.npi = dataframe[NPI]\n",
        "\n",
        "\n",
        "    def __getitem__(self, index):\n",
        "        \"\"\"\n",
        "        return: age, code, position, segmentation, mask, label\n",
        "        \"\"\"\n",
        "        # cut data\n",
        "        age = self.age[index]\n",
        "        code = self.code[index]\n",
        "        label = self.label[index]\n",
        "        patid = self.patid[index]\n",
        "        delay = self.delay[index]\n",
        "        modalities = self.modalities[index]\n",
        "        npi = self.npi[index]\n",
        "\n",
        "        # change id type to list\n",
        "        patid = [patid]\n",
        "\n",
        "        # extract data\n",
        "        age = age[(-self.max_len+1):]\n",
        "        code = code[(-self.max_len+1):]\n",
        "        delay = delay[(-self.max_len+1):]\n",
        "        modalities = modalities[(-self.max_len+1):]\n",
        "        npi = npi[(-self.max_len+1):]\n",
        "\n",
        "        # mask 0:len(code) to 1, padding to be 0\n",
        "        mask = np.ones(self.max_len)\n",
        "        mask[len(code):] = 0\n",
        "\n",
        "        # pad age sequence and code sequence\n",
        "        age = seq_padding(age, self.max_len, token2idx=self.age2idx)\n",
        "        delay = seq_padding(delay, self.max_len, token2idx=self.del2idx)\n",
        "        modalities = seq_padding(modalities, self.max_len, token2idx=self.mod2idx)\n",
        "        npi = seq_padding(npi, self.max_len, token2idx=self.npi2idx)\n",
        "\n",
        "        tokens, code = code2index(code, self.vocab)\n",
        "        _, label = label2index(label, self.label_vocab)\n",
        "\n",
        "        # get position code and segment code\n",
        "        tokens = seq_padding(tokens, self.max_len)\n",
        "        position = position_idx(tokens)\n",
        "        segment = index_seg(tokens)\n",
        "\n",
        "        # pad code and label\n",
        "        code = seq_padding(code, self.max_len, symbol=self.vocab['PAD'])\n",
        "        #  label = seq_padding(label, self.max_len, symbol=-1)\n",
        "\n",
        "        # will be loaded as\n",
        "        # age_ids, input_ids, mod_ids, del_ids, NPI_ids, posi_ids, segment_ids, attMask, targets, _ = batch\n",
        "\n",
        "        return torch.LongTensor(age), torch.LongTensor(code), torch.LongTensor(modalities), torch.LongTensor(delay), \\\n",
        "            torch.LongTensor(npi), torch.LongTensor(position), torch.LongTensor(segment), \\\n",
        "            torch.LongTensor(mask), torch.LongTensor(label), torch.LongTensor(patid)\n",
        "\n",
        "    def __len__(self):\n",
        "        return len(self.code)"
      ]
    },
    {
      "cell_type": "markdown",
      "id": "940417b4-716a-413d-a404-136817d4bbee",
      "metadata": {
        "id": "940417b4-716a-413d-a404-136817d4bbee"
      },
      "source": [
        "## Data loading and config"
      ]
    },
    {
      "cell_type": "code",
      "execution_count": null,
      "id": "f98e6f57-9348-40b9-8516-41664e40acbe",
      "metadata": {
        "id": "f98e6f57-9348-40b9-8516-41664e40acbe"
      },
      "outputs": [],
      "source": [
        "file_config = {\n",
        "    'data': 'BEHRT/Early_integration/Files/data_for_classification.pkl',\n",
        "    'index_to_delete': 'BEHRT/Early_integration/Files/index_to_delete.pkl',\n",
        "    'labels': 'BEHRT/Early_integration/Files/relapses.csv',\n",
        "    'test_idx': 'BEHRT/Early_integration/Files/test_idx.pkl',\n",
        "}"
      ]
    },
    {
      "cell_type": "code",
      "execution_count": null,
      "id": "11dc1e81-2d4e-4874-b714-563b99dabfa1",
      "metadata": {
        "id": "11dc1e81-2d4e-4874-b714-563b99dabfa1"
      },
      "outputs": [],
      "source": [
        "config = {\n",
        "    'batch_size': 32,\n",
        "}"
      ]
    },
    {
      "cell_type": "code",
      "execution_count": null,
      "id": "06c71483-c050-4475-a8c7-5bae319442f0",
      "metadata": {
        "id": "06c71483-c050-4475-a8c7-5bae319442f0"
      },
      "outputs": [],
      "source": [
        "global_params = {\n",
        "    'min_visit': 3,\n",
        "    'max_len_seq': 512,\n",
        "    'max_age': 110,\n",
        "    'age_month': 12,\n",
        "    'age_symbol': None,\n",
        "    'delay_month': 0.25,\n",
        "    'max_delay': 30,\n",
        "}"
      ]
    },
    {
      "cell_type": "markdown",
      "id": "4ba1f8fb-060d-4abb-9058-29eed4bda089",
      "metadata": {
        "id": "4ba1f8fb-060d-4abb-9058-29eed4bda089"
      },
      "source": [
        "### Train data"
      ]
    },
    {
      "cell_type": "code",
      "execution_count": null,
      "id": "193ee4f5-4e1d-4c10-b17d-2c9597f6c712",
      "metadata": {
        "id": "193ee4f5-4e1d-4c10-b17d-2c9597f6c712"
      },
      "outputs": [],
      "source": [
        "hf = handle_file()"
      ]
    },
    {
      "cell_type": "code",
      "execution_count": null,
      "id": "8b3c56f0-89c2-4833-bb35-c9a684d81a5a",
      "metadata": {
        "id": "8b3c56f0-89c2-4833-bb35-c9a684d81a5a"
      },
      "outputs": [],
      "source": [
        "# Import train data\n",
        "data = hf._load_pkl(file_config['data'])"
      ]
    },
    {
      "cell_type": "code",
      "execution_count": null,
      "id": "8c6c97f3-6a7d-41a8-8635-d589700e7ef7",
      "metadata": {
        "id": "8c6c97f3-6a7d-41a8-8635-d589700e7ef7",
        "outputId": "df0f679e-3570-4c2e-a663-cc4a0c73212d"
      },
      "outputs": [
        {
          "name": "stdout",
          "output_type": "stream",
          "text": [
            "(15150, 76)\n",
            "7012 patients removed before they relapsed too early or were censored\n",
            "(8138, 77)\n",
            "0 patients removed because they do not have enough visits.\n"
          ]
        }
      ],
      "source": [
        "# Import labels\n",
        "labels = hf._load_csv(file_config['labels'])\n",
        "labels.rename(columns={'status_rfs_surg_3y': 'label'}, inplace=True)\n",
        "\n",
        "# Merge label and data\n",
        "data = pd.merge(data, labels, on=['Num_dossier'])\n",
        "data.set_index('Num_dossier', inplace=True)\n",
        "print(data.shape)\n",
        "\n",
        "# Delete censored patients and relapsed before 18months post surgery\n",
        "index_to_del = hf._load_pkl(file_config['index_to_delete'])  # 0: 12mo, 1:18mo, 2:24mo, 3:36mo, 4:60mo\n",
        "list_of_index = index_to_del['list_of_relapses_before_12mo']+index_to_del['list_of_censored_before_3y']\n",
        "print(\"%d patients removed before they relapsed too early or were censored\" % len(list_of_index))\n",
        "\n",
        "data = data.reset_index()\n",
        "data = data.loc[~data['Num_dossier'].isin(list(list_of_index))]\n",
        "print(data.shape)\n",
        "\n",
        "# remove patients with visits less than min visit\n",
        "previous_shape = data.shape[0]\n",
        "data['length'] = data['inputs_normal_range_preprocessed_100_therap_removed'].apply(lambda x: len([i for i in range(len(x)) if x[i] == 'SEP']))\n",
        "data = data[data['length'] >= global_params['min_visit']]\n",
        "print(\"{} patients removed because they do not have enough visits.\".format(previous_shape - data.shape[0]))"
      ]
    },
    {
      "cell_type": "code",
      "execution_count": null,
      "id": "5ac17153-1523-494e-b573-8d392026532b",
      "metadata": {
        "id": "5ac17153-1523-494e-b573-8d392026532b"
      },
      "outputs": [],
      "source": [
        "test_idx = hf._load_pkl(file_config['test_idx'])\n",
        "subtrain = data.loc[data['Num_dossier'].isin([i for i in data['Num_dossier'] if i not in test_idx.values])]"
      ]
    },
    {
      "cell_type": "markdown",
      "id": "cad6ed16-0ef4-4464-b4ed-50d1eab36de4",
      "metadata": {
        "id": "cad6ed16-0ef4-4464-b4ed-50d1eab36de4"
      },
      "source": [
        "### Train-valid split"
      ]
    },
    {
      "cell_type": "code",
      "execution_count": null,
      "id": "764b5c06-bd96-4666-8a75-8dbea1c37f62",
      "metadata": {
        "id": "764b5c06-bd96-4666-8a75-8dbea1c37f62"
      },
      "outputs": [],
      "source": [
        "X_train, X_valid, y_train, y_valid = model_selection.train_test_split(subtrain.drop(['label'], axis=1), subtrain['label'],\n",
        "                                                                      test_size=0.07, random_state=42, stratify=subtrain['label'])"
      ]
    },
    {
      "cell_type": "code",
      "execution_count": null,
      "id": "6c5c003a-988f-42a4-877f-d9abc6f5711b",
      "metadata": {
        "id": "6c5c003a-988f-42a4-877f-d9abc6f5711b"
      },
      "outputs": [],
      "source": [
        "train_df = pd.concat([X_train, y_train], axis=1)"
      ]
    },
    {
      "cell_type": "code",
      "execution_count": null,
      "id": "8e7a58c8-3232-413c-a35b-7ab4b81d3e78",
      "metadata": {
        "id": "8e7a58c8-3232-413c-a35b-7ab4b81d3e78"
      },
      "outputs": [],
      "source": [
        "train_df.index = range(train_df.shape[0])\n",
        "train_df['patid'] = range(train_df.shape[0])"
      ]
    },
    {
      "cell_type": "code",
      "execution_count": null,
      "id": "63a6ae41-8d15-41e0-a645-476c92b7b9e9",
      "metadata": {
        "id": "63a6ae41-8d15-41e0-a645-476c92b7b9e9"
      },
      "outputs": [],
      "source": [
        "X_tr = train_df['inputs_normal_range_preprocessed_100_therap_removed']\n",
        "y_tr = train_df['label']"
      ]
    },
    {
      "cell_type": "markdown",
      "id": "8bcc6dfe-b2c1-4185-8f4f-e97c5ccd24d5",
      "metadata": {
        "id": "8bcc6dfe-b2c1-4185-8f4f-e97c5ccd24d5"
      },
      "source": [
        "### Vocabularies"
      ]
    },
    {
      "cell_type": "code",
      "execution_count": null,
      "id": "4632efa0-3729-47e6-9a6b-552dfb638c20",
      "metadata": {
        "id": "4632efa0-3729-47e6-9a6b-552dfb638c20"
      },
      "outputs": [],
      "source": [
        "ageVocab, _ = utils.age_vocab(max_age=global_params['max_age'],\n",
        "                              mon = global_params['age_month'],\n",
        "                              symbol=global_params['age_symbol'])"
      ]
    },
    {
      "cell_type": "code",
      "execution_count": null,
      "id": "116832ce-9972-451d-9fae-7bf0a0e763ed",
      "metadata": {
        "id": "116832ce-9972-451d-9fae-7bf0a0e763ed"
      },
      "outputs": [],
      "source": [
        "delayVocab, _ = utils.delay_vocab(max_delay=global_params['max_delay'],\n",
        "                                  mon = global_params['delay_month'],\n",
        "                                  symbol=global_params['age_symbol'])"
      ]
    },
    {
      "cell_type": "code",
      "execution_count": null,
      "id": "ce61e277-29d8-4d10-af75-6d362869062c",
      "metadata": {
        "id": "ce61e277-29d8-4d10-af75-6d362869062c"
      },
      "outputs": [],
      "source": [
        "NPIVocab = {'PAD':0, 'UNK':1, 1.0:2, 2.0:3, 3.0:4, 4.0:5, 5.0:6, 6.0:7}"
      ]
    },
    {
      "cell_type": "code",
      "execution_count": null,
      "id": "eeb711dc-9a0c-42d7-80cd-52617068f86f",
      "metadata": {
        "id": "eeb711dc-9a0c-42d7-80cd-52617068f86f"
      },
      "outputs": [],
      "source": [
        "# Binary classification\n",
        "labelVocab = {0:0, 1:1}"
      ]
    },
    {
      "cell_type": "code",
      "execution_count": null,
      "id": "0adbf9d0-309f-40f6-91c6-a3b936176139",
      "metadata": {
        "id": "0adbf9d0-309f-40f6-91c6-a3b936176139"
      },
      "outputs": [],
      "source": [
        "whole_seq = hf._load_pkl('data/whole_seq_preprocessed.pkl')\n",
        "\n",
        "tokenVocab, _ = utils.input_vocab(inputs=whole_seq.inputs_normal_range_preprocessed_100_therap_removed,\n",
        "                                  symbol=None)\n",
        "\n",
        "modalitiesVocab, _ = utils.mod_vocab(whole_seq.modalities_100_therap_removed,\n",
        "                                     symbol=None)\n",
        "\n",
        "del whole_seq"
      ]
    },
    {
      "cell_type": "markdown",
      "id": "9a9a5374-fc39-434c-83af-d091897476f7",
      "metadata": {
        "id": "9a9a5374-fc39-434c-83af-d091897476f7"
      },
      "source": [
        "## With StratifiedSampler"
      ]
    },
    {
      "cell_type": "markdown",
      "id": "2b8dd5d9-f22d-425d-8643-07b1edef9b23",
      "metadata": {
        "id": "2b8dd5d9-f22d-425d-8643-07b1edef9b23"
      },
      "source": [
        "_Comment:_ `StratifiedSampler` is not a stratified sampler (that would provide the same proportion of pos/neg samples in each batch as in the training data)."
      ]
    },
    {
      "cell_type": "code",
      "execution_count": null,
      "id": "106179fb-05de-4548-adc8-2be0d6cf2bce",
      "metadata": {
        "id": "106179fb-05de-4548-adc8-2be0d6cf2bce"
      },
      "outputs": [],
      "source": [
        "from Utils.dataLoader_utils import StratifiedSampler"
      ]
    },
    {
      "cell_type": "code",
      "execution_count": null,
      "id": "908d8859-e9de-49f8-96db-864141789387",
      "metadata": {
        "id": "908d8859-e9de-49f8-96db-864141789387"
      },
      "outputs": [],
      "source": [
        "def load_data(data, config, sampling=True, X_tr=None, y_tr=None):\n",
        "    \"\"\"\n",
        "    Create a torch DataLoader that can be used to load the data batch by batch.\n",
        "    The batch are balanced using StratifiedSampler.\n",
        "    \"\"\"\n",
        "    Dset = FinetuneDataset(token2idx=tokenVocab, label2idx=labelVocab, mod2idx=modalitiesVocab,\n",
        "                     age2idx=ageVocab, del2idx=delayVocab, NPI2idx=NPIVocab,\n",
        "                     dataframe=data, max_len=global_params['max_len_seq'],\n",
        "                     code='inputs_normal_range_preprocessed_100_therap_removed',\n",
        "                     delay ='delays_100_therap_removed',\n",
        "                     age = \"age_100_therap_removed\",\n",
        "                     mod ='modalities_100_therap_removed',\n",
        "                     NPI= 'NPI6')\n",
        "    if sampling:\n",
        "        return DataLoader(dataset=Dset, batch_size=config['batch_size'],\n",
        "                          sampler=StratifiedSampler(X_tr, y_tr, batch_size=config['batch_size']))\n",
        "    else:\n",
        "        return DataLoader(dataset=Dset, batch_size=config['batch_size'], shuffle=False)"
      ]
    },
    {
      "cell_type": "code",
      "execution_count": null,
      "id": "eb77e584-a353-4e71-8b93-624c87cd39a3",
      "metadata": {
        "id": "eb77e584-a353-4e71-8b93-624c87cd39a3"
      },
      "outputs": [],
      "source": [
        "train_loader = load_data(train_df, config, X_tr=X_tr, y_tr=y_tr)"
      ]
    },
    {
      "cell_type": "markdown",
      "id": "3b0add35-33f9-476a-8c23-9536cb7c9099",
      "metadata": {
        "tags": [],
        "id": "3b0add35-33f9-476a-8c23-9536cb7c9099"
      },
      "source": [
        "#### What samples are used?"
      ]
    },
    {
      "cell_type": "code",
      "execution_count": null,
      "id": "a5c3030a-9fea-408f-ada7-10c14867507d",
      "metadata": {
        "id": "a5c3030a-9fea-408f-ada7-10c14867507d"
      },
      "outputs": [],
      "source": [
        "used_samples = []\n",
        "used_samples_pos = []\n",
        "used_samples_neg = []\n",
        "for idx, batch in enumerate(train_loader):\n",
        "    age_ids, input_ids, mod_ids, del_ids, NPI_ids, posi_ids, segment_ids, attMask, targets, pids = batch\n",
        "    pids = np.array([int(pid) for pid in pids])\n",
        "    pos_indices = np.where(targets > 0)[0]\n",
        "    neg_indices = np.where(targets < 1)[0]\n",
        "    assert(len(pos_indices) + len(neg_indices) == len(pids))\n",
        "    assert(len(pos_indices) == len(neg_indices))\n",
        "    used_samples.extend(pids)\n",
        "    used_samples_pos.extend([pids[i] for i in pos_indices])\n",
        "    used_samples_neg.extend([pids[i] for i in neg_indices])"
      ]
    },
    {
      "cell_type": "code",
      "execution_count": null,
      "id": "1f037fb8-e899-4305-b424-beafe1408c82",
      "metadata": {
        "id": "1f037fb8-e899-4305-b424-beafe1408c82",
        "outputId": "71a31a3b-5a6f-453e-d6f2-f5448820c6db"
      },
      "outputs": [
        {
          "name": "stdout",
          "output_type": "stream",
          "text": [
            "3424 positive samples used for training\n",
            "3424 negative samples used for training\n",
            "6848 samples used for training\n"
          ]
        }
      ],
      "source": [
        "print(\"%d positive samples used for training\" % len(used_samples_pos))\n",
        "print(\"%d negative samples used for training\" % len(used_samples_neg))\n",
        "print(\"%d samples used for training\" % len(used_samples))"
      ]
    },
    {
      "cell_type": "code",
      "execution_count": null,
      "id": "961c98d1-699c-4072-a462-07ccb5be4f69",
      "metadata": {
        "id": "961c98d1-699c-4072-a462-07ccb5be4f69",
        "outputId": "c040692e-a9b0-4bc1-d3c2-19cff5767328"
      },
      "outputs": [
        {
          "name": "stdout",
          "output_type": "stream",
          "text": [
            "252 unique positive samples used for training\n",
            "2670 unique negative samples used for training\n",
            "2922 unique samples used for training\n"
          ]
        }
      ],
      "source": [
        "print(\"%d unique positive samples used for training\" % len(set(used_samples_pos)))\n",
        "print(\"%d unique negative samples used for training\" % len(set(used_samples_neg)))\n",
        "print(\"%d unique samples used for training\" % len(set(used_samples)))"
      ]
    },
    {
      "cell_type": "code",
      "execution_count": null,
      "id": "eb0f453c-20bf-4e0d-9cc8-25acbdd16b6f",
      "metadata": {
        "id": "eb0f453c-20bf-4e0d-9cc8-25acbdd16b6f",
        "outputId": "0c4848a7-ee73-437e-92e7-8beb7b8daa94"
      },
      "outputs": [
        {
          "name": "stdout",
          "output_type": "stream",
          "text": [
            "6853 252 6601\n"
          ]
        }
      ],
      "source": [
        "print(len(y_tr), np.sum(y_tr), (len(y_tr) - np.sum(y_tr)))"
      ]
    },
    {
      "cell_type": "markdown",
      "id": "9d8d1cdb-d856-4d08-9d6c-5624f557ac66",
      "metadata": {
        "id": "9d8d1cdb-d856-4d08-9d6c-5624f557ac66"
      },
      "source": [
        "__Conclusion:__ We are far from using all negative examples for training."
      ]
    },
    {
      "cell_type": "markdown",
      "id": "c6e3dd80-0793-421a-aab8-3e0d79920872",
      "metadata": {
        "id": "c6e3dd80-0793-421a-aab8-3e0d79920872"
      },
      "source": [
        "#### How many times is each sample used?"
      ]
    },
    {
      "cell_type": "code",
      "execution_count": null,
      "id": "3e535fa0-c220-4103-afb4-ade141326cd1",
      "metadata": {
        "id": "3e535fa0-c220-4103-afb4-ade141326cd1"
      },
      "outputs": [],
      "source": [
        "counts = [used_samples_neg.count(neg_idx) for neg_idx in set(used_samples_neg)]"
      ]
    },
    {
      "cell_type": "code",
      "execution_count": null,
      "id": "69128c7c-a0bd-40c5-a069-3be97766be0e",
      "metadata": {
        "id": "69128c7c-a0bd-40c5-a069-3be97766be0e",
        "outputId": "67949ca9-0c3b-4354-f702-ab389f49e63d"
      },
      "outputs": [
        {
          "data": {
            "image/png": "[encoded data removed]",
            "text/plain": [
              "<Figure size 432x288 with 1 Axes>"
            ]
          },
          "metadata": {
            "needs_background": "light"
          },
          "output_type": "display_data"
        }
      ],
      "source": [
        "plt.hist(counts)\n",
        "plt.yscale('log')"
      ]
    },
    {
      "cell_type": "markdown",
      "id": "83a0f015-d8bf-42db-9dee-7831260e29c0",
      "metadata": {
        "id": "83a0f015-d8bf-42db-9dee-7831260e29c0"
      },
      "source": [
        "__Conclusion:__ While we're not using all negative samples, many of them are used several times."
      ]
    },
    {
      "cell_type": "code",
      "execution_count": null,
      "id": "a071d746-7c20-4511-99d1-f22b4a7ed652",
      "metadata": {
        "id": "a071d746-7c20-4511-99d1-f22b4a7ed652"
      },
      "outputs": [],
      "source": [
        "counts = [used_samples_pos.count(pos_idx) for pos_idx in set(used_samples_pos)]"
      ]
    },
    {
      "cell_type": "code",
      "execution_count": null,
      "id": "72dc651f-0897-44a1-8a30-8ba9227aea62",
      "metadata": {
        "id": "72dc651f-0897-44a1-8a30-8ba9227aea62",
        "outputId": "02ebb260-3909-41f7-ba31-aee47c8a6b14"
      },
      "outputs": [
        {
          "data": {
            "image/png": "[encoded data removed]",
            "text/plain": [
              "<Figure size 432x288 with 1 Axes>"
            ]
          },
          "metadata": {
            "needs_background": "light"
          },
          "output_type": "display_data"
        }
      ],
      "source": [
        "plt.hist(counts)\n",
        "plt.yscale('log')"
      ]
    },
    {
      "cell_type": "markdown",
      "id": "c5cb5e0a-810c-4aaa-af76-90e9b33a5ef6",
      "metadata": {
        "id": "c5cb5e0a-810c-4aaa-af76-90e9b33a5ef6"
      },
      "source": [
        "## With new batch over-sampler"
      ]
    },
    {
      "cell_type": "code",
      "execution_count": null,
      "id": "efae67ed-6d3a-46fd-b460-b8115264c237",
      "metadata": {
        "id": "efae67ed-6d3a-46fd-b460-b8115264c237"
      },
      "outputs": [],
      "source": [
        " from sklearn.utils import gen_even_slices"
      ]
    },
    {
      "cell_type": "code",
      "execution_count": null,
      "id": "e134743c-ccf1-4ec8-96ae-3a9ba4aad85b",
      "metadata": {
        "id": "e134743c-ccf1-4ec8-96ae-3a9ba4aad85b"
      },
      "outputs": [],
      "source": [
        "class NewBatchOverSampler(Sampler):\n",
        "    \"\"\"\n",
        "    Over Sampling\n",
        "    Provides equal representation of target classes in each batch\n",
        "    Uses all the data\n",
        "    Truly splits the data in batches like torch's BatchSampler\n",
        "    \"\"\"\n",
        "    def __init__(self, X, y, batch_size, minority_pct=0.5):\n",
        "        \"\"\"\n",
        "        Arguments\n",
        "        ---------\n",
        "        class_vector : torch tensor\n",
        "            a vector of class labels\n",
        "        batch_size : integer\n",
        "            batch_size\n",
        "        \"\"\"\n",
        "        self.X = X\n",
        "        self.y = torch.from_numpy(y.values)\n",
        "        self.batch_size = batch_size\n",
        "        self.minority_pct = minority_pct\n",
        "        # The number of splits/batches depends on how many samples\n",
        "        # from the minority class we want to put in each batch\n",
        "        self.n_splits = int(self.y.size(0) / (self.minority_pct * self.batch_size))\n",
        "\n",
        "    def __iter__(self):\n",
        "        minority_idxs = np.where(self.y==1)[0]\n",
        "        majority_idxs = np.where(self.y==0)[0]\n",
        "\n",
        "        num_majority = len(majority_idxs)\n",
        "        slices_generator = gen_even_slices(num_majority, self.n_splits)\n",
        "\n",
        "        # Shuffle the majority class\n",
        "        np.random.shuffle(majority_idxs)\n",
        "\n",
        "        # Random oversample of the whole minority class\n",
        "        # to obtain as many samples as in the majority class\n",
        "        minority_resampled = np.random.choice(minority_idxs, len(majority_idxs), replace=True)\n",
        "\n",
        "        for sl in slices_generator:\n",
        "            #print(sl)\n",
        "            majority = majority_idxs[sl]\n",
        "            minority = minority_resampled[sl]\n",
        "            idxs = list(np.hstack([majority, minority]))\n",
        "            yield idxs\n",
        "\n",
        "    def __len__(self):\n",
        "        # The iterator length is the number of batches\n",
        "        return self.n_splits"
      ]
    },
    {
      "cell_type": "code",
      "execution_count": null,
      "id": "678dc4c3-66f6-4882-8eab-36462d103d84",
      "metadata": {
        "id": "678dc4c3-66f6-4882-8eab-36462d103d84"
      },
      "outputs": [],
      "source": [
        "def new_batch_load_data(data, config, sampling=True, X_tr=None, y_tr=None):\n",
        "    \"\"\"\n",
        "    Create a torch DataLoader that can be used to load the data batch by batch.\n",
        "    The batch are balanced using NewBatchOverSampler.\n",
        "    \"\"\"\n",
        "    Dset = FinetuneDataset(token2idx=tokenVocab, label2idx=labelVocab, mod2idx=modalitiesVocab,\n",
        "                     age2idx=ageVocab, del2idx=delayVocab, NPI2idx=NPIVocab,\n",
        "                     dataframe=data, max_len=global_params['max_len_seq'],\n",
        "                     code='inputs_normal_range_preprocessed_100_therap_removed',\n",
        "                     delay='delays_100_therap_removed',\n",
        "                     age=\"age_100_therap_removed\",\n",
        "                     mod='modalities_100_therap_removed', NPI='NPI6')\n",
        "    if sampling:\n",
        "        return DataLoader(dataset=Dset,\n",
        "                          batch_sampler=NewBatchOverSampler(X_tr, y_tr, batch_size=config['batch_size']))\n",
        "    else:\n",
        "        return DataLoader(dataset=Dset, batch_size=config['batch_size'], shuffle=False)"
      ]
    },
    {
      "cell_type": "markdown",
      "id": "c6b1bcc4-b379-4245-a1f7-a38f11da30a9",
      "metadata": {
        "id": "c6b1bcc4-b379-4245-a1f7-a38f11da30a9"
      },
      "source": [
        "_Comment:_ I'm using `batch_sampler=` rather than `batch_size=` because `NewBatchOverSampler` yields indices batch by batch."
      ]
    },
    {
      "cell_type": "code",
      "execution_count": null,
      "id": "9d739c02-c1ef-45e2-8030-42c012c3ca3e",
      "metadata": {
        "id": "9d739c02-c1ef-45e2-8030-42c012c3ca3e"
      },
      "outputs": [],
      "source": [
        "new_train_loader = new_batch_load_data(train_df, config, X_tr=X_tr, y_tr=y_tr)"
      ]
    },
    {
      "cell_type": "markdown",
      "id": "d7762002-82ce-4c08-8f0a-e17ae996083f",
      "metadata": {
        "tags": [],
        "id": "d7762002-82ce-4c08-8f0a-e17ae996083f"
      },
      "source": [
        "#### What samples are used?"
      ]
    },
    {
      "cell_type": "code",
      "execution_count": null,
      "id": "211e6d87-3bce-4a35-88be-2d46f3621e66",
      "metadata": {
        "id": "211e6d87-3bce-4a35-88be-2d46f3621e66"
      },
      "outputs": [],
      "source": [
        "used_samples = []\n",
        "used_samples_pos = []\n",
        "used_samples_neg = []\n",
        "for idx, batch in enumerate(new_train_loader):\n",
        "    age_ids, input_ids, mod_ids, del_ids, NPI_ids, posi_ids, segment_ids, attMask, targets, pids = batch\n",
        "    pids = np.array([int(pid) for pid in pids])\n",
        "    pos_indices = np.where(targets > 0)[0]\n",
        "    neg_indices = np.where(targets < 1)[0]\n",
        "    assert(len(pos_indices) + len(neg_indices) == len(pids))\n",
        "    assert(len(pos_indices) == len(neg_indices))\n",
        "    used_samples.extend(pids)\n",
        "    used_samples_pos.extend([pids[i] for i in pos_indices])\n",
        "    used_samples_neg.extend([pids[i] for i in neg_indices])"
      ]
    },
    {
      "cell_type": "code",
      "execution_count": null,
      "id": "6fc01fc0-3b03-47a8-97c7-85a8b586b98a",
      "metadata": {
        "id": "6fc01fc0-3b03-47a8-97c7-85a8b586b98a",
        "outputId": "f65e9a9a-af9c-4bde-fe4e-1fea62d037aa"
      },
      "outputs": [
        {
          "name": "stdout",
          "output_type": "stream",
          "text": [
            "6601 positive samples used for training\n",
            "6601 negative samples used for training\n",
            "13202 samples used for training\n"
          ]
        }
      ],
      "source": [
        "print(\"%d positive samples used for training\" % len(used_samples_pos))\n",
        "print(\"%d negative samples used for training\" % len(used_samples_neg))\n",
        "print(\"%d samples used for training\" % len(used_samples))"
      ]
    },
    {
      "cell_type": "code",
      "execution_count": null,
      "id": "795f4256-d447-4fa1-9b5b-7605e685c28c",
      "metadata": {
        "id": "795f4256-d447-4fa1-9b5b-7605e685c28c",
        "outputId": "44c6efc8-5db4-4cf7-9dc2-946ffe3897ee"
      },
      "outputs": [
        {
          "name": "stdout",
          "output_type": "stream",
          "text": [
            "252 unique positive samples used for training\n",
            "6601 unique negative samples used for training\n",
            "6853 unique samples used for training\n"
          ]
        }
      ],
      "source": [
        "print(\"%d unique positive samples used for training\" % len(set(used_samples_pos)))\n",
        "print(\"%d unique negative samples used for training\" % len(set(used_samples_neg)))\n",
        "print(\"%d unique samples used for training\" % len(set(used_samples)))"
      ]
    },
    {
      "cell_type": "code",
      "execution_count": null,
      "id": "329b50ee-fcb8-427b-8290-62df04eb97a4",
      "metadata": {
        "id": "329b50ee-fcb8-427b-8290-62df04eb97a4",
        "outputId": "9a3ef7f9-40f2-42cd-dbeb-e58d4ab85034"
      },
      "outputs": [
        {
          "name": "stdout",
          "output_type": "stream",
          "text": [
            "6853 252 6601\n"
          ]
        }
      ],
      "source": [
        "print(len(y_tr), np.sum(y_tr), (len(y_tr) - np.sum(y_tr)))"
      ]
    },
    {
      "cell_type": "markdown",
      "id": "862b3d48-ff46-4ac7-9ee5-f81d3a4eef1a",
      "metadata": {
        "id": "862b3d48-ff46-4ac7-9ee5-f81d3a4eef1a"
      },
      "source": [
        "__Conclusion:__ We are now using all samples for training."
      ]
    },
    {
      "cell_type": "markdown",
      "id": "3828efdc-d83b-4686-a284-e9f153379bb9",
      "metadata": {
        "id": "3828efdc-d83b-4686-a284-e9f153379bb9"
      },
      "source": [
        "#### How many times is each sample used?"
      ]
    },
    {
      "cell_type": "code",
      "execution_count": null,
      "id": "bc7809c2-4833-44b3-8631-8983556f5992",
      "metadata": {
        "id": "bc7809c2-4833-44b3-8631-8983556f5992"
      },
      "outputs": [],
      "source": [
        "counts = [used_samples_neg.count(neg_idx) for neg_idx in set(used_samples_neg)]"
      ]
    },
    {
      "cell_type": "code",
      "execution_count": null,
      "id": "789d45d3-0890-4be2-9963-9a7b03580843",
      "metadata": {
        "id": "789d45d3-0890-4be2-9963-9a7b03580843",
        "outputId": "f3942d0c-8644-455e-b8f1-29cc734151a3"
      },
      "outputs": [
        {
          "data": {
            "image/png": "[encoded data removed]",
            "text/plain": [
              "<Figure size 432x288 with 1 Axes>"
            ]
          },
          "metadata": {
            "needs_background": "light"
          },
          "output_type": "display_data"
        }
      ],
      "source": [
        "plt.hist(counts)\n",
        "plt.yscale('log')"
      ]
    },
    {
      "cell_type": "markdown",
      "id": "b04e1ae4-5d44-4c7a-9be4-0f978db6e58f",
      "metadata": {
        "id": "b04e1ae4-5d44-4c7a-9be4-0f978db6e58f"
      },
      "source": [
        "__Conclusion:__ We are now using each negative sample once."
      ]
    },
    {
      "cell_type": "code",
      "execution_count": null,
      "id": "3823585f-e7e1-442d-88d9-e0a7d370edab",
      "metadata": {
        "id": "3823585f-e7e1-442d-88d9-e0a7d370edab"
      },
      "outputs": [],
      "source": [
        "counts = [used_samples_pos.count(pos_idx) for pos_idx in set(used_samples_pos)]"
      ]
    },
    {
      "cell_type": "code",
      "execution_count": null,
      "id": "8061c412-a2f5-425c-8bf6-b33d605424fb",
      "metadata": {
        "id": "8061c412-a2f5-425c-8bf6-b33d605424fb",
        "outputId": "98ee63b7-95b7-4b63-b815-f47af00d65c7"
      },
      "outputs": [
        {
          "data": {
            "image/png": "[encoded data removed]",
            "text/plain": [
              "<Figure size 432x288 with 1 Axes>"
            ]
          },
          "metadata": {
            "needs_background": "light"
          },
          "output_type": "display_data"
        }
      ],
      "source": [
        "plt.hist(counts)\n",
        "plt.yscale('log')"
      ]
    }
  ],
  "metadata": {
    "kernelspec": {
      "display_name": "Python 3 (ipykernel)",
      "language": "python",
      "name": "python3"
    },
    "language_info": {
      "codemirror_mode": {
        "name": "ipython",
        "version": 3
      },
      "file_extension": ".py",
      "mimetype": "text/x-python",
      "name": "python",
      "nbconvert_exporter": "python",
      "pygments_lexer": "ipython3",
      "version": "3.11.7"
    },
    "colab": {
      "provenance": []
    }
  },
  "nbformat": 4,
  "nbformat_minor": 5
}